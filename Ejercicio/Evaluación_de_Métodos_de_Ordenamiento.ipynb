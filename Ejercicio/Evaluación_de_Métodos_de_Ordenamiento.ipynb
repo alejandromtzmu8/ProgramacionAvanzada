{
  "nbformat": 4,
  "nbformat_minor": 0,
  "metadata": {
    "colab": {
      "provenance": [],
      "authorship_tag": "ABX9TyP1wYC/JchVNl9J28ztWPMP",
      "include_colab_link": true
    },
    "kernelspec": {
      "name": "python3",
      "display_name": "Python 3"
    },
    "language_info": {
      "name": "python"
    }
  },
  "cells": [
    {
      "cell_type": "markdown",
      "metadata": {
        "id": "view-in-github",
        "colab_type": "text"
      },
      "source": [
        "<a href=\"https://colab.research.google.com/github/alejandromtzmu8/ProgramacionAvanzada/blob/main/Evaluaci%C3%B3n_de_M%C3%A9todos_de_Ordenamiento.ipynb\" target=\"_parent\"><img src=\"https://colab.research.google.com/assets/colab-badge.svg\" alt=\"Open In Colab\"/></a>"
      ]
    },
    {
      "cell_type": "code",
      "execution_count": 1,
      "metadata": {
        "colab": {
          "base_uri": "https://localhost:8080/"
        },
        "collapsed": true,
        "id": "TFXtoEDvhe7o",
        "outputId": "3793ccd5-5678-43dc-86cb-2560d2c152dc"
      },
      "outputs": [
        {
          "output_type": "stream",
          "name": "stdout",
          "text": [
            "Tamaño de la lista: 100\n",
            "Tiempo Bubble Sort: 0.000674 segundos\n",
            "Tiempo Quick Sort: 0.000264 segundos\n",
            "\n",
            "Tamaño de la lista: 500\n",
            "Tiempo Bubble Sort: 0.019966 segundos\n",
            "Tiempo Quick Sort: 0.001452 segundos\n",
            "\n",
            "Tamaño de la lista: 1000\n",
            "Tiempo Bubble Sort: 0.082188 segundos\n",
            "Tiempo Quick Sort: 0.003054 segundos\n",
            "\n",
            "Tamaño de la lista: 5000\n",
            "Tiempo Bubble Sort: 2.167304 segundos\n",
            "Tiempo Quick Sort: 0.008981 segundos\n",
            "\n",
            "Tamaño de la lista: 10000\n",
            "Lista original (primeros 10 elementos): [4203, 1021, 9848, 2129, 6472, 2533, 9333, 5880, 4893, 5462]\n",
            "Lista ordenada BS (10 primeros): [2, 3, 4, 4, 5, 6, 6, 8, 8, 9]\n",
            "Tiempo Bubble Sort: 4.893428 segundos\n",
            "Lista ordenada QS (10 primeros): [2, 3, 4, 4, 5, 6, 6, 8, 8, 9]\n",
            "Tiempo Quick Sort: 0.035032 segundos\n",
            "\n"
          ]
        }
      ],
      "source": [
        "import time\n",
        "import random\n",
        "\n",
        "##implementación del algoritmo de ordenamiento burbuja\n",
        "def dubble_sort(arr):\n",
        "  n=len(arr)\n",
        "  for i in range(n):\n",
        "    for j in range(0,n-i-1):\n",
        "      if arr[j]>arr[j+1]:\n",
        "        arr[j],arr[j+1]=arr[j+1],arr[j]\n",
        "#Implementacion del algoritmo de ordenamiento QuickSort\n",
        "def quicksort(arr):\n",
        "  if len(arr)<=1:\n",
        "    return arr\n",
        "  pivot=arr[len(arr)//2]\n",
        "  left=[x for x in arr if x<pivot]\n",
        "  middle=[x for x in arr if x==pivot]\n",
        "  right=[x for x in arr if x>pivot]\n",
        "  return quicksort(left)+middle+quicksort(right)\n",
        "\n",
        "#Funcion que mide tiempo de ejecución\n",
        "def measure_time(sort_algorithm,data):\n",
        "   start_time=time.time()\n",
        "   sort_algorithm(data)\n",
        "   end_time=time.time()\n",
        "   return end_time-start_time\n",
        "\n",
        "#Pruebas de rendimientos con dif. tamaños\n",
        "tamaños=[100, 500, 1000, 5000, 10000]\n",
        "resultados={}\n",
        "for tamaño in tamaños:\n",
        "  random_lista=[random.randint(1,10000) for _ in range(tamaño)]\n",
        "\n",
        "  #Tiempo con Bubble Sort\n",
        "  bubble_data=random_lista.copy()\n",
        "  bubble_time=measure_time(dubble_sort,bubble_data)\n",
        "  lista_ordenadaS = dubble_sort(bubble_data)\n",
        "\n",
        "  #Tiempo con Qicksort\n",
        "  quick_data=random_lista.copy()\n",
        "  quick_time=measure_time(lambda arr: quicksort(arr),quick_data)\n",
        "  lista_ordenada = quicksort(quick_data)\n",
        "\n",
        "  resultados[tamaño]={\"Bubble Sort\":bubble_time,\"Quick Sort\":quick_time}\n",
        "\n",
        "#Mostrar resultados\n",
        "for tamaño, times in resultados.items():\n",
        "  print(f\"Tamaño de la lista: {tamaño}\")\n",
        "  if tamaño==10000:\n",
        "    print(f\"Lista original (primeros 10 elementos): {random_lista[:10]}\")\n",
        "    print(f\"Lista ordenada BS (10 primeros): {bubble_data[:10]}\")\n",
        "    print(f\"Tiempo Bubble Sort: {times['Bubble Sort']:.6f} segundos\")\n",
        "    print(f\"Lista ordenada QS (10 primeros): {lista_ordenada[:10]}\")\n",
        "    print(f\"Tiempo Quick Sort: {times['Quick Sort']:.6f} segundos\")\n",
        "  else:\n",
        "    print(f\"Tiempo Bubble Sort: {times['Bubble Sort']:.6f} segundos\")\n",
        "    print(f\"Tiempo Quick Sort: {times['Quick Sort']:.6f} segundos\")\n",
        "  print()"
      ]
    },
    {
      "cell_type": "code",
      "source": [],
      "metadata": {
        "id": "5H3Un_HShtcR"
      },
      "execution_count": null,
      "outputs": []
    }
  ]
}